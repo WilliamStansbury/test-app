{
 "cells": [
  {
   "cell_type": "code",
   "execution_count": 1,
   "metadata": {},
   "outputs": [],
   "source": [
    "def crc_remainder(input_bitstring, polynomial_bitstring, initial_filler):\n",
    "    '''\n",
    "    Calculates the CRC remainder of a string of bits using a chosen polynomial.\n",
    "    initial_filler should be '1' or '0'.\n",
    "    '''\n",
    "    polynomial_bitstring = polynomial_bitstring.lstrip('0')\n",
    "    len_input = len(input_bitstring)\n",
    "    initial_padding = initial_filler * (len(polynomial_bitstring) - 1)\n",
    "    input_padded_array = list(input_bitstring + initial_padding)\n",
    "    while '1' in input_padded_array[:len_input]:\n",
    "        cur_shift = input_padded_array.index('1')\n",
    "        for i in range(len(polynomial_bitstring)):\n",
    "            input_padded_array[cur_shift + i] = str(int(polynomial_bitstring[i] != input_padded_array[cur_shift + i]))\n",
    "    return ''.join(input_padded_array)[len_input:]\n",
    "\n",
    "def crc_check(input_bitstring, polynomial_bitstring, check_value):\n",
    "    '''\n",
    "    Calculates the CRC check of a string of bits using a chosen polynomial.\n",
    "    '''\n",
    "    polynomial_bitstring = polynomial_bitstring.lstrip('0')\n",
    "    len_input = len(input_bitstring)\n",
    "    initial_padding = check_value\n",
    "    input_padded_array = list(input_bitstring + initial_padding)\n",
    "    while '1' in input_padded_array[:len_input]:\n",
    "        cur_shift = input_padded_array.index('1')\n",
    "        for i in range(len(polynomial_bitstring)):\n",
    "            input_padded_array[cur_shift + i] = str(int(polynomial_bitstring[i] != input_padded_array[cur_shift + i]))\n",
    "    return ('1' not in ''.join(input_padded_array)[len_input:])"
   ]
  },
  {
   "cell_type": "code",
   "execution_count": 4,
   "metadata": {},
   "outputs": [
    {
     "data": {
      "text/plain": [
       "'11101'"
      ]
     },
     "execution_count": 4,
     "metadata": {},
     "output_type": "execute_result"
    }
   ],
   "source": [
    "crc_remainder('1001101', '100011', '0')"
   ]
  },
  {
   "cell_type": "code",
   "execution_count": null,
   "metadata": {},
   "outputs": [],
   "source": []
  }
 ],
 "metadata": {
  "kernelspec": {
   "display_name": "Python 3",
   "language": "python",
   "name": "python3"
  },
  "language_info": {
   "codemirror_mode": {
    "name": "ipython",
    "version": 3
   },
   "file_extension": ".py",
   "mimetype": "text/x-python",
   "name": "python",
   "nbconvert_exporter": "python",
   "pygments_lexer": "ipython3",
   "version": "3.7.4"
  }
 },
 "nbformat": 4,
 "nbformat_minor": 2
}
